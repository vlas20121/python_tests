{
 "cells": [
  {
   "cell_type": "code",
   "execution_count": null,
   "id": "5ca81390-c6e3-45e8-a381-1b359ec90090",
   "metadata": {},
   "outputs": [],
   "source": [
    "jupyternotebook"
   ]
  },
  {
   "cell_type": "code",
   "execution_count": null,
   "id": "6966aaf7-eb4b-4c4c-ab1a-c5c2d3e239d1",
   "metadata": {},
   "outputs": [],
   "source": [
    "jupyternotebook"
   ]
  }
 ],
 "metadata": {
  "kernelspec": {
   "display_name": "Python 3 (ipykernel)",
   "language": "python",
   "name": "python3"
  },
  "language_info": {
   "codemirror_mode": {
    "name": "ipython",
    "version": 3
   },
   "file_extension": ".py",
   "mimetype": "text/x-python",
   "name": "python",
   "nbconvert_exporter": "python",
   "pygments_lexer": "ipython3",
   "version": "3.10.5"
  }
 },
 "nbformat": 4,
 "nbformat_minor": 5
}
